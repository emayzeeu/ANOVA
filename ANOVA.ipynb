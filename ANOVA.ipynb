{
 "cells": [
  {
   "cell_type": "markdown",
   "metadata": {},
   "source": [
    "## **Analysis of Variance (ANOVA)**"
   ]
  },
  {
   "cell_type": "markdown",
   "metadata": {},
   "source": [
    "### **Author Information**\n",
    "This Jupyter Notebook is authored by **Mizbah Uddin Chowdhury**.\n",
    "\n",
    "For more projects and information, you can visit:\n",
    "- GitHub: https://www.github.com/emayzeeu\n",
    "- LinkedIn: https://www.linkedin.com/in/mizbahuddinchowdhury/"
   ]
  },
  {
   "cell_type": "markdown",
   "metadata": {},
   "source": [
    "### **Overview**\n",
    "Analysis of Variance, commonly called ANOVA, is a group of statistical techniques that test the difference of means between three or more groups. ANOVA is an extension of t-. tests. While t-tests examine the difference of means between two groups. ANOVA can test means between several groups. "
   ]
  },
  {
   "cell_type": "markdown",
   "metadata": {},
   "source": [
    "In this project, we analyze a dataset containing information on product sales across different countries. The dataset includes variables such as date of sale, product category, country of sale, store, and the number of items sold. The primary objective of this project is to investigate whether there are significant differences in the number of items sold based on product category and country of sale."
   ]
  },
  {
   "cell_type": "markdown",
   "metadata": {},
   "source": [
    "### **Dataset Information**\n",
    "\n",
    "The dataset used in this project is sourced from Kaggle's Playground Series Competition titled 'Forecasting Mini-Course Sales' (Playground Series - Season 3, Episode 19). The dataset contains the following columns:\n",
    "\n",
    "- `date`: Date of a sale.\n",
    "- `country`: The country where the sale was made.\n",
    "- `store`: The store where the sale was made.\n",
    "- `product`: The category of the product.\n",
    "- `num_sold`: The number of items sold.\n",
    "\n",
    "The dataset can be found on Kaggle's website at the following link (train_data):\n",
    "https://www.kaggle.com/competitions/playground-series-s3e19/data\n",
    "\n",
    "Before proceeding with the analysis, we performed data cleaning and handled outliers, ensuring that the dataset is ready for exploration and ANOVA testing. Let's begin!"
   ]
  },
  {
   "cell_type": "markdown",
   "metadata": {},
   "source": [
    "### **Importing**"
   ]
  },
  {
   "cell_type": "code",
   "execution_count": 11,
   "metadata": {},
   "outputs": [],
   "source": [
    "# importing\n",
    "import numpy as np\n",
    "import pandas as pd\n",
    "import matplotlib.pyplot as plt\n",
    "import seaborn as sns"
   ]
  },
  {
   "cell_type": "code",
   "execution_count": 12,
   "metadata": {},
   "outputs": [
    {
     "data": {
      "text/html": [
       "<div>\n",
       "<style scoped>\n",
       "    .dataframe tbody tr th:only-of-type {\n",
       "        vertical-align: middle;\n",
       "    }\n",
       "\n",
       "    .dataframe tbody tr th {\n",
       "        vertical-align: top;\n",
       "    }\n",
       "\n",
       "    .dataframe thead th {\n",
       "        text-align: right;\n",
       "    }\n",
       "</style>\n",
       "<table border=\"1\" class=\"dataframe\">\n",
       "  <thead>\n",
       "    <tr style=\"text-align: right;\">\n",
       "      <th></th>\n",
       "      <th>id</th>\n",
       "      <th>date</th>\n",
       "      <th>country</th>\n",
       "      <th>store</th>\n",
       "      <th>product</th>\n",
       "      <th>num_sold</th>\n",
       "    </tr>\n",
       "  </thead>\n",
       "  <tbody>\n",
       "    <tr>\n",
       "      <th>0</th>\n",
       "      <td>0</td>\n",
       "      <td>2017-01-01</td>\n",
       "      <td>Argentina</td>\n",
       "      <td>Kaggle Learn</td>\n",
       "      <td>Using LLMs to Improve Your Coding</td>\n",
       "      <td>63</td>\n",
       "    </tr>\n",
       "    <tr>\n",
       "      <th>1</th>\n",
       "      <td>1</td>\n",
       "      <td>2017-01-01</td>\n",
       "      <td>Argentina</td>\n",
       "      <td>Kaggle Learn</td>\n",
       "      <td>Using LLMs to Train More LLMs</td>\n",
       "      <td>66</td>\n",
       "    </tr>\n",
       "    <tr>\n",
       "      <th>2</th>\n",
       "      <td>2</td>\n",
       "      <td>2017-01-01</td>\n",
       "      <td>Argentina</td>\n",
       "      <td>Kaggle Learn</td>\n",
       "      <td>Using LLMs to Win Friends and Influence People</td>\n",
       "      <td>9</td>\n",
       "    </tr>\n",
       "    <tr>\n",
       "      <th>3</th>\n",
       "      <td>3</td>\n",
       "      <td>2017-01-01</td>\n",
       "      <td>Argentina</td>\n",
       "      <td>Kaggle Learn</td>\n",
       "      <td>Using LLMs to Win More Kaggle Competitions</td>\n",
       "      <td>59</td>\n",
       "    </tr>\n",
       "    <tr>\n",
       "      <th>4</th>\n",
       "      <td>4</td>\n",
       "      <td>2017-01-01</td>\n",
       "      <td>Argentina</td>\n",
       "      <td>Kaggle Learn</td>\n",
       "      <td>Using LLMs to Write Better</td>\n",
       "      <td>49</td>\n",
       "    </tr>\n",
       "  </tbody>\n",
       "</table>\n",
       "</div>"
      ],
      "text/plain": [
       "   id        date    country         store  \\\n",
       "0   0  2017-01-01  Argentina  Kaggle Learn   \n",
       "1   1  2017-01-01  Argentina  Kaggle Learn   \n",
       "2   2  2017-01-01  Argentina  Kaggle Learn   \n",
       "3   3  2017-01-01  Argentina  Kaggle Learn   \n",
       "4   4  2017-01-01  Argentina  Kaggle Learn   \n",
       "\n",
       "                                          product  num_sold  \n",
       "0               Using LLMs to Improve Your Coding        63  \n",
       "1                   Using LLMs to Train More LLMs        66  \n",
       "2  Using LLMs to Win Friends and Influence People         9  \n",
       "3      Using LLMs to Win More Kaggle Competitions        59  \n",
       "4                      Using LLMs to Write Better        49  "
      ]
     },
     "execution_count": 12,
     "metadata": {},
     "output_type": "execute_result"
    }
   ],
   "source": [
    "# reading data\n",
    "df = pd.read_csv('salesdata.csv')\n",
    "df.head()"
   ]
  },
  {
   "cell_type": "code",
   "execution_count": 13,
   "metadata": {},
   "outputs": [
    {
     "name": "stdout",
     "output_type": "stream",
     "text": [
      "<class 'pandas.core.frame.DataFrame'>\n",
      "RangeIndex: 136950 entries, 0 to 136949\n",
      "Data columns (total 6 columns):\n",
      " #   Column    Non-Null Count   Dtype \n",
      "---  ------    --------------   ----- \n",
      " 0   id        136950 non-null  int64 \n",
      " 1   date      136950 non-null  object\n",
      " 2   country   136950 non-null  object\n",
      " 3   store     136950 non-null  object\n",
      " 4   product   136950 non-null  object\n",
      " 5   num_sold  136950 non-null  int64 \n",
      "dtypes: int64(2), object(4)\n",
      "memory usage: 6.3+ MB\n"
     ]
    }
   ],
   "source": [
    "# getting basic info on dataset\n",
    "df.info()"
   ]
  },
  {
   "cell_type": "code",
   "execution_count": 14,
   "metadata": {},
   "outputs": [
    {
     "data": {
      "text/html": [
       "<div>\n",
       "<style scoped>\n",
       "    .dataframe tbody tr th:only-of-type {\n",
       "        vertical-align: middle;\n",
       "    }\n",
       "\n",
       "    .dataframe tbody tr th {\n",
       "        vertical-align: top;\n",
       "    }\n",
       "\n",
       "    .dataframe thead th {\n",
       "        text-align: right;\n",
       "    }\n",
       "</style>\n",
       "<table border=\"1\" class=\"dataframe\">\n",
       "  <thead>\n",
       "    <tr style=\"text-align: right;\">\n",
       "      <th></th>\n",
       "      <th>id</th>\n",
       "      <th>num_sold</th>\n",
       "    </tr>\n",
       "  </thead>\n",
       "  <tbody>\n",
       "    <tr>\n",
       "      <th>count</th>\n",
       "      <td>136950.00000</td>\n",
       "      <td>136950.000000</td>\n",
       "    </tr>\n",
       "    <tr>\n",
       "      <th>mean</th>\n",
       "      <td>68474.50000</td>\n",
       "      <td>165.522636</td>\n",
       "    </tr>\n",
       "    <tr>\n",
       "      <th>std</th>\n",
       "      <td>39534.20402</td>\n",
       "      <td>183.691575</td>\n",
       "    </tr>\n",
       "    <tr>\n",
       "      <th>min</th>\n",
       "      <td>0.00000</td>\n",
       "      <td>2.000000</td>\n",
       "    </tr>\n",
       "    <tr>\n",
       "      <th>25%</th>\n",
       "      <td>34237.25000</td>\n",
       "      <td>46.000000</td>\n",
       "    </tr>\n",
       "    <tr>\n",
       "      <th>50%</th>\n",
       "      <td>68474.50000</td>\n",
       "      <td>98.000000</td>\n",
       "    </tr>\n",
       "    <tr>\n",
       "      <th>75%</th>\n",
       "      <td>102711.75000</td>\n",
       "      <td>184.000000</td>\n",
       "    </tr>\n",
       "    <tr>\n",
       "      <th>max</th>\n",
       "      <td>136949.00000</td>\n",
       "      <td>1380.000000</td>\n",
       "    </tr>\n",
       "  </tbody>\n",
       "</table>\n",
       "</div>"
      ],
      "text/plain": [
       "                 id       num_sold\n",
       "count  136950.00000  136950.000000\n",
       "mean    68474.50000     165.522636\n",
       "std     39534.20402     183.691575\n",
       "min         0.00000       2.000000\n",
       "25%     34237.25000      46.000000\n",
       "50%     68474.50000      98.000000\n",
       "75%    102711.75000     184.000000\n",
       "max    136949.00000    1380.000000"
      ]
     },
     "execution_count": 14,
     "metadata": {},
     "output_type": "execute_result"
    }
   ],
   "source": [
    "# getting basic statistics\n",
    "df.describe()"
   ]
  },
  {
   "cell_type": "code",
   "execution_count": 15,
   "metadata": {},
   "outputs": [
    {
     "data": {
      "text/plain": [
       "id          0\n",
       "date        0\n",
       "country     0\n",
       "store       0\n",
       "product     0\n",
       "num_sold    0\n",
       "dtype: int64"
      ]
     },
     "execution_count": 15,
     "metadata": {},
     "output_type": "execute_result"
    }
   ],
   "source": [
    "# checking for null values\n",
    "df.isna().sum()"
   ]
  },
  {
   "cell_type": "code",
   "execution_count": 16,
   "metadata": {},
   "outputs": [
    {
     "data": {
      "text/plain": [
       "<AxesSubplot: xlabel='num_sold', ylabel='Count'>"
      ]
     },
     "execution_count": 16,
     "metadata": {},
     "output_type": "execute_result"
    },
    {
     "data": {
      "image/png": "[encoded data removed]",
      "text/plain": [
       "<Figure size 640x480 with 1 Axes>"
      ]
     },
     "metadata": {},
     "output_type": "display_data"
    }
   ],
   "source": [
    "# checking sales distributions\n",
    "sns.histplot(x=df['num_sold'])"
   ]
  },
  {
   "cell_type": "markdown",
   "metadata": {},
   "source": [
    "### **One-way ANOVA**"
   ]
  },
  {
   "cell_type": "markdown",
   "metadata": {},
   "source": [
    "At this point, we would like to run a one-way ANOVA test to check whether there is a statistically significant difference in number of products sold based on product category."
   ]
  },
  {
   "cell_type": "code",
   "execution_count": 17,
   "metadata": {},
   "outputs": [
    {
     "data": {
      "text/plain": [
       "array(['Using LLMs to Improve Your Coding',\n",
       "       'Using LLMs to Train More LLMs',\n",
       "       'Using LLMs to Win Friends and Influence People',\n",
       "       'Using LLMs to Win More Kaggle Competitions',\n",
       "       'Using LLMs to Write Better'], dtype=object)"
      ]
     },
     "execution_count": 17,
     "metadata": {},
     "output_type": "execute_result"
    }
   ],
   "source": [
    "# getting product categories/names\n",
    "df['product'].unique()"
   ]
  },
  {
   "cell_type": "code",
   "execution_count": 18,
   "metadata": {},
   "outputs": [
    {
     "data": {
      "text/html": [
       "<div>\n",
       "<style scoped>\n",
       "    .dataframe tbody tr th:only-of-type {\n",
       "        vertical-align: middle;\n",
       "    }\n",
       "\n",
       "    .dataframe tbody tr th {\n",
       "        vertical-align: top;\n",
       "    }\n",
       "\n",
       "    .dataframe thead th {\n",
       "        text-align: right;\n",
       "    }\n",
       "</style>\n",
       "<table border=\"1\" class=\"dataframe\">\n",
       "  <thead>\n",
       "    <tr style=\"text-align: right;\">\n",
       "      <th></th>\n",
       "      <th>id</th>\n",
       "      <th>date</th>\n",
       "      <th>country</th>\n",
       "      <th>store</th>\n",
       "      <th>product</th>\n",
       "      <th>num_sold</th>\n",
       "    </tr>\n",
       "  </thead>\n",
       "  <tbody>\n",
       "    <tr>\n",
       "      <th>0</th>\n",
       "      <td>0</td>\n",
       "      <td>2017-01-01</td>\n",
       "      <td>Argentina</td>\n",
       "      <td>Kaggle Learn</td>\n",
       "      <td>Using LLMs to Improve Your Coding</td>\n",
       "      <td>63</td>\n",
       "    </tr>\n",
       "    <tr>\n",
       "      <th>1</th>\n",
       "      <td>1</td>\n",
       "      <td>2017-01-01</td>\n",
       "      <td>Argentina</td>\n",
       "      <td>Kaggle Learn</td>\n",
       "      <td>Using LLMs to Train More LLMs</td>\n",
       "      <td>66</td>\n",
       "    </tr>\n",
       "    <tr>\n",
       "      <th>2</th>\n",
       "      <td>2</td>\n",
       "      <td>2017-01-01</td>\n",
       "      <td>Argentina</td>\n",
       "      <td>Kaggle Learn</td>\n",
       "      <td>Using LLMs to Win Friends and Influence People</td>\n",
       "      <td>9</td>\n",
       "    </tr>\n",
       "    <tr>\n",
       "      <th>3</th>\n",
       "      <td>3</td>\n",
       "      <td>2017-01-01</td>\n",
       "      <td>Argentina</td>\n",
       "      <td>Kaggle Learn</td>\n",
       "      <td>Using LLMs to Win More Kaggle Competitions</td>\n",
       "      <td>59</td>\n",
       "    </tr>\n",
       "    <tr>\n",
       "      <th>4</th>\n",
       "      <td>4</td>\n",
       "      <td>2017-01-01</td>\n",
       "      <td>Argentina</td>\n",
       "      <td>Kaggle Learn</td>\n",
       "      <td>Using LLMs to Write Better</td>\n",
       "      <td>49</td>\n",
       "    </tr>\n",
       "  </tbody>\n",
       "</table>\n",
       "</div>"
      ],
      "text/plain": [
       "   id        date    country         store  \\\n",
       "0   0  2017-01-01  Argentina  Kaggle Learn   \n",
       "1   1  2017-01-01  Argentina  Kaggle Learn   \n",
       "2   2  2017-01-01  Argentina  Kaggle Learn   \n",
       "3   3  2017-01-01  Argentina  Kaggle Learn   \n",
       "4   4  2017-01-01  Argentina  Kaggle Learn   \n",
       "\n",
       "                                          product  num_sold  \n",
       "0               Using LLMs to Improve Your Coding        63  \n",
       "1                   Using LLMs to Train More LLMs        66  \n",
       "2  Using LLMs to Win Friends and Influence People         9  \n",
       "3      Using LLMs to Win More Kaggle Competitions        59  \n",
       "4                      Using LLMs to Write Better        49  "
      ]
     },
     "execution_count": 18,
     "metadata": {},
     "output_type": "execute_result"
    }
   ],
   "source": [
    "df.head()"
   ]
  },
  {
   "cell_type": "code",
   "execution_count": 19,
   "metadata": {},
   "outputs": [
    {
     "data": {
      "text/plain": [
       "product\n",
       "Using LLMs to Improve Your Coding                 6069281\n",
       "Using LLMs to Train More LLMs                     5993975\n",
       "Using LLMs to Win Friends and Influence People     932564\n",
       "Using LLMs to Win More Kaggle Competitions        5068313\n",
       "Using LLMs to Write Better                        4604192\n",
       "Name: num_sold, dtype: int64"
      ]
     },
     "execution_count": 19,
     "metadata": {},
     "output_type": "execute_result"
    }
   ],
   "source": [
    "# product sold per category\n",
    "df.groupby('product')['num_sold'].sum()"
   ]
  },
  {
   "cell_type": "markdown",
   "metadata": {},
   "source": [
    "The product names are way too long and can be a problem in the later part. So, let's shorten the names."
   ]
  },
  {
   "cell_type": "code",
   "execution_count": 20,
   "metadata": {},
   "outputs": [],
   "source": [
    "product_mapping = {\n",
    "    'Using LLMs to Improve Your Coding': 'Improve_Coding',\n",
    "    'Using LLMs to Train More LLMs': 'Train_More_LLMs',\n",
    "    'Using LLMs to Win Friends and Influence People': 'Win_Influence',\n",
    "    'Using LLMs to Win More Kaggle Competitions': 'Win_Kaggle',\n",
    "    'Using LLMs to Write Better': 'Write_Better'\n",
    "}\n",
    "\n",
    "df['product_name'] = df['product'].map(product_mapping)"
   ]
  },
  {
   "cell_type": "code",
   "execution_count": 21,
   "metadata": {},
   "outputs": [
    {
     "data": {
      "text/plain": [
       "product_name\n",
       "Improve_Coding     6069281\n",
       "Train_More_LLMs    5993975\n",
       "Win_Influence       932564\n",
       "Win_Kaggle         5068313\n",
       "Write_Better       4604192\n",
       "Name: num_sold, dtype: int64"
      ]
     },
     "execution_count": 21,
     "metadata": {},
     "output_type": "execute_result"
    }
   ],
   "source": [
    "df.groupby('product_name')['num_sold'].sum()"
   ]
  },
  {
   "cell_type": "code",
   "execution_count": 22,
   "metadata": {},
   "outputs": [
    {
     "data": {
      "image/png": "[encoded data removed]",
      "text/plain": [
       "<Figure size 800x600 with 1 Axes>"
      ]
     },
     "metadata": {},
     "output_type": "display_data"
    }
   ],
   "source": [
    "# checking distribution of products sold per category\n",
    "plt.figure(figsize=(8, 6))\n",
    "sns.boxplot(x=df['product_name'], y=df['num_sold'])\n",
    "plt.show()"
   ]
  },
  {
   "cell_type": "markdown",
   "metadata": {},
   "source": [
    "We see lots of outliers in the boxplot. So, we will remove the outliers."
   ]
  },
  {
   "cell_type": "code",
   "execution_count": 23,
   "metadata": {},
   "outputs": [],
   "source": [
    "# defining function to remove outliers\n",
    "# here we use the iqr method to remove outliers\n",
    "\n",
    "def remove_outliers(dataframe, target_column, category_column):\n",
    "    \n",
    "    cleaned_dataframe = pd.DataFrame()\n",
    "\n",
    "    grouped_data = dataframe.groupby(category_column)\n",
    "\n",
    "    for category, category_data in grouped_data:\n",
    "        Q1 = category_data[target_column].quantile(0.25)\n",
    "        Q3 = category_data[target_column].quantile(0.75)\n",
    "        IQR = Q3 - Q1\n",
    "\n",
    "        lower_limit = Q1 - 1.5 * IQR\n",
    "        upper_limit = Q3 + 1.5 * IQR\n",
    "\n",
    "        cleaned_category_data = category_data[\n",
    "                                (category_data[target_column] >= lower_limit) & \n",
    "                                (category_data[target_column] <= upper_limit)\n",
    "                                ]\n",
    "        cleaned_dataframe = pd.concat([cleaned_dataframe, cleaned_category_data], \n",
    "                            ignore_index=True)\n",
    "\n",
    "    return cleaned_dataframe"
   ]
  },
  {
   "cell_type": "code",
   "execution_count": 24,
   "metadata": {},
   "outputs": [],
   "source": [
    "cleaned_df = remove_outliers(df, 'num_sold', 'product_name')"
   ]
  },
  {
   "cell_type": "code",
   "execution_count": 25,
   "metadata": {},
   "outputs": [
    {
     "data": {
      "text/plain": [
       "product_name\n",
       "Improve_Coding     4661310\n",
       "Train_More_LLMs    5010724\n",
       "Win_Influence       793906\n",
       "Win_Kaggle         3945711\n",
       "Write_Better       3455967\n",
       "Name: num_sold, dtype: int64"
      ]
     },
     "execution_count": 25,
     "metadata": {},
     "output_type": "execute_result"
    }
   ],
   "source": [
    "cleaned_df.groupby('product_name')['num_sold'].sum()"
   ]
  },
  {
   "cell_type": "code",
   "execution_count": 26,
   "metadata": {},
   "outputs": [
    {
     "data": {
      "image/png": "[encoded data removed]",
      "text/plain": [
       "<Figure size 800x600 with 1 Axes>"
      ]
     },
     "metadata": {},
     "output_type": "display_data"
    }
   ],
   "source": [
    "plt.figure(figsize=(8, 6))\n",
    "sns.boxplot(x=cleaned_df['product_name'], y=cleaned_df['num_sold'])\n",
    "plt.show()"
   ]
  },
  {
   "cell_type": "code",
   "execution_count": 27,
   "metadata": {},
   "outputs": [
    {
     "data": {
      "text/plain": [
       "Win_Influence      26227\n",
       "Train_More_LLMs    26085\n",
       "Win_Kaggle         25612\n",
       "Improve_Coding     25525\n",
       "Write_Better       25401\n",
       "Name: product_name, dtype: int64"
      ]
     },
     "execution_count": 27,
     "metadata": {},
     "output_type": "execute_result"
    }
   ],
   "source": [
    "cleaned_df['product_name'].value_counts()"
   ]
  },
  {
   "cell_type": "markdown",
   "metadata": {},
   "source": [
    "To run ANOVA, we need to create a regression model."
   ]
  },
  {
   "cell_type": "code",
   "execution_count": 28,
   "metadata": {},
   "outputs": [],
   "source": [
    "import statsmodels.api as sm\n",
    "from statsmodels.formula.api import ols"
   ]
  },
  {
   "cell_type": "code",
   "execution_count": 29,
   "metadata": {},
   "outputs": [
    {
     "data": {
      "text/html": [
       "<table class=\"simpletable\">\n",
       "<caption>OLS Regression Results</caption>\n",
       "<tr>\n",
       "  <th>Dep. Variable:</th>        <td>num_sold</td>     <th>  R-squared:         </th>  <td>   0.165</td>  \n",
       "</tr>\n",
       "<tr>\n",
       "  <th>Model:</th>                   <td>OLS</td>       <th>  Adj. R-squared:    </th>  <td>   0.165</td>  \n",
       "</tr>\n",
       "<tr>\n",
       "  <th>Method:</th>             <td>Least Squares</td>  <th>  F-statistic:       </th>  <td>   6367.</td>  \n",
       "</tr>\n",
       "<tr>\n",
       "  <th>Date:</th>             <td>Tue, 25 Jul 2023</td> <th>  Prob (F-statistic):</th>   <td>  0.00</td>   \n",
       "</tr>\n",
       "<tr>\n",
       "  <th>Time:</th>                 <td>14:26:47</td>     <th>  Log-Likelihood:    </th> <td>-8.1116e+05</td>\n",
       "</tr>\n",
       "<tr>\n",
       "  <th>No. Observations:</th>      <td>128850</td>      <th>  AIC:               </th>  <td>1.622e+06</td> \n",
       "</tr>\n",
       "<tr>\n",
       "  <th>Df Residuals:</th>          <td>128845</td>      <th>  BIC:               </th>  <td>1.622e+06</td> \n",
       "</tr>\n",
       "<tr>\n",
       "  <th>Df Model:</th>              <td>     4</td>      <th>                     </th>      <td> </td>     \n",
       "</tr>\n",
       "<tr>\n",
       "  <th>Covariance Type:</th>      <td>nonrobust</td>    <th>                     </th>      <td> </td>     \n",
       "</tr>\n",
       "</table>\n",
       "<table class=\"simpletable\">\n",
       "<tr>\n",
       "                   <td></td>                     <th>coef</th>     <th>std err</th>      <th>t</th>      <th>P>|t|</th>  <th>[0.025</th>    <th>0.975]</th>  \n",
       "</tr>\n",
       "<tr>\n",
       "  <th>Intercept</th>                          <td>  182.6174</td> <td>    0.821</td> <td>  222.431</td> <td> 0.000</td> <td>  181.008</td> <td>  184.227</td>\n",
       "</tr>\n",
       "<tr>\n",
       "  <th>C(product_name)[T.Train_More_LLMs]</th> <td>    9.4747</td> <td>    1.155</td> <td>    8.204</td> <td> 0.000</td> <td>    7.211</td> <td>   11.738</td>\n",
       "</tr>\n",
       "<tr>\n",
       "  <th>C(product_name)[T.Win_Influence]</th>   <td> -152.3469</td> <td>    1.153</td> <td> -132.099</td> <td> 0.000</td> <td> -154.607</td> <td> -150.086</td>\n",
       "</tr>\n",
       "<tr>\n",
       "  <th>C(product_name)[T.Win_Kaggle]</th>      <td>  -28.5603</td> <td>    1.160</td> <td>  -24.619</td> <td> 0.000</td> <td>  -30.834</td> <td>  -26.287</td>\n",
       "</tr>\n",
       "<tr>\n",
       "  <th>C(product_name)[T.Write_Better]</th>    <td>  -46.5611</td> <td>    1.162</td> <td>  -40.053</td> <td> 0.000</td> <td>  -48.840</td> <td>  -44.283</td>\n",
       "</tr>\n",
       "</table>\n",
       "<table class=\"simpletable\">\n",
       "<tr>\n",
       "  <th>Omnibus:</th>       <td>35115.376</td> <th>  Durbin-Watson:     </th> <td>   2.530</td> \n",
       "</tr>\n",
       "<tr>\n",
       "  <th>Prob(Omnibus):</th>  <td> 0.000</td>   <th>  Jarque-Bera (JB):  </th> <td>77857.811</td>\n",
       "</tr>\n",
       "<tr>\n",
       "  <th>Skew:</th>           <td> 1.588</td>   <th>  Prob(JB):          </th> <td>    0.00</td> \n",
       "</tr>\n",
       "<tr>\n",
       "  <th>Kurtosis:</th>       <td> 5.100</td>   <th>  Cond. No.          </th> <td>    5.85</td> \n",
       "</tr>\n",
       "</table><br/><br/>Notes:<br/>[1] Standard Errors assume that the covariance matrix of the errors is correctly specified."
      ],
      "text/plain": [
       "<class 'statsmodels.iolib.summary.Summary'>\n",
       "\"\"\"\n",
       "                            OLS Regression Results                            \n",
       "==============================================================================\n",
       "Dep. Variable:               num_sold   R-squared:                       0.165\n",
       "Model:                            OLS   Adj. R-squared:                  0.165\n",
       "Method:                 Least Squares   F-statistic:                     6367.\n",
       "Date:                Tue, 25 Jul 2023   Prob (F-statistic):               0.00\n",
       "Time:                        14:26:47   Log-Likelihood:            -8.1116e+05\n",
       "No. Observations:              128850   AIC:                         1.622e+06\n",
       "Df Residuals:                  128845   BIC:                         1.622e+06\n",
       "Df Model:                           4                                         \n",
       "Covariance Type:            nonrobust                                         \n",
       "======================================================================================================\n",
       "                                         coef    std err          t      P>|t|      [0.025      0.975]\n",
       "------------------------------------------------------------------------------------------------------\n",
       "Intercept                            182.6174      0.821    222.431      0.000     181.008     184.227\n",
       "C(product_name)[T.Train_More_LLMs]     9.4747      1.155      8.204      0.000       7.211      11.738\n",
       "C(product_name)[T.Win_Influence]    -152.3469      1.153   -132.099      0.000    -154.607    -150.086\n",
       "C(product_name)[T.Win_Kaggle]        -28.5603      1.160    -24.619      0.000     -30.834     -26.287\n",
       "C(product_name)[T.Write_Better]      -46.5611      1.162    -40.053      0.000     -48.840     -44.283\n",
       "==============================================================================\n",
       "Omnibus:                    35115.376   Durbin-Watson:                   2.530\n",
       "Prob(Omnibus):                  0.000   Jarque-Bera (JB):            77857.811\n",
       "Skew:                           1.588   Prob(JB):                         0.00\n",
       "Kurtosis:                       5.100   Cond. No.                         5.85\n",
       "==============================================================================\n",
       "\n",
       "Notes:\n",
       "[1] Standard Errors assume that the covariance matrix of the errors is correctly specified.\n",
       "\"\"\""
      ]
     },
     "execution_count": 29,
     "metadata": {},
     "output_type": "execute_result"
    }
   ],
   "source": [
    "# constructing and fitting model\n",
    "formula = 'num_sold ~ C(product_name)'\n",
    "model = ols(formula = formula, data = cleaned_df).fit()\n",
    "model.summary()"
   ]
  },
  {
   "cell_type": "markdown",
   "metadata": {},
   "source": [
    "Based on the model summary table, the products' associated beta coefficients all have a p-value of greater than 0.05. But we can't be sure if there is a significant difference for number of items sold between the various days. This is where one-way ANOVA comes in."
   ]
  },
  {
   "cell_type": "markdown",
   "metadata": {},
   "source": [
    "**Null Hypothesis**\n",
    "\n",
    "$$H_0: \\mu_{\\text{Improve\\_Coding}} = \\mu_{\\text{Train\\_More\\_LLMs}} = \\mu_{\\text{Win\\_Influence}} = \\mu_{\\text{Win\\_Kaggle}} = \\mu_{\\text{Write\\_Better}}$$\n",
    "\n",
    "There is no difference in the number of items sold based on product category.\n",
    "\n",
    "**Alternative Hypothesis**\n",
    "$$H_0: \\text{Not } \\mu_{\\text{Improve\\_Coding}} = \\mu_{\\text{Train\\_More\\_LLMs}} = \\mu_{\\text{Win\\_Influence}} = \\mu_{\\text{Win\\_Kaggle}} = \\mu_{\\text{Write\\_Better}}$$\n",
    "\n",
    "There is a difference in the number of items sold based on product category."
   ]
  },
  {
   "cell_type": "code",
   "execution_count": 30,
   "metadata": {},
   "outputs": [
    {
     "data": {
      "text/html": [
       "<div>\n",
       "<style scoped>\n",
       "    .dataframe tbody tr th:only-of-type {\n",
       "        vertical-align: middle;\n",
       "    }\n",
       "\n",
       "    .dataframe tbody tr th {\n",
       "        vertical-align: top;\n",
       "    }\n",
       "\n",
       "    .dataframe thead th {\n",
       "        text-align: right;\n",
       "    }\n",
       "</style>\n",
       "<table border=\"1\" class=\"dataframe\">\n",
       "  <thead>\n",
       "    <tr style=\"text-align: right;\">\n",
       "      <th></th>\n",
       "      <th>sum_sq</th>\n",
       "      <th>df</th>\n",
       "      <th>F</th>\n",
       "      <th>PR(&gt;F)</th>\n",
       "    </tr>\n",
       "  </thead>\n",
       "  <tbody>\n",
       "    <tr>\n",
       "      <th>C(product_name)</th>\n",
       "      <td>4.381593e+08</td>\n",
       "      <td>4.0</td>\n",
       "      <td>6366.695742</td>\n",
       "      <td>0.0</td>\n",
       "    </tr>\n",
       "    <tr>\n",
       "      <th>Residual</th>\n",
       "      <td>2.216795e+09</td>\n",
       "      <td>128845.0</td>\n",
       "      <td>NaN</td>\n",
       "      <td>NaN</td>\n",
       "    </tr>\n",
       "  </tbody>\n",
       "</table>\n",
       "</div>"
      ],
      "text/plain": [
       "                       sum_sq        df            F  PR(>F)\n",
       "C(product_name)  4.381593e+08       4.0  6366.695742     0.0\n",
       "Residual         2.216795e+09  128845.0          NaN     NaN"
      ]
     },
     "execution_count": 30,
     "metadata": {},
     "output_type": "execute_result"
    }
   ],
   "source": [
    "# one way anova\n",
    "sm.stats.anova_lm(model, typ = 2)"
   ]
  },
  {
   "cell_type": "code",
   "execution_count": 31,
   "metadata": {},
   "outputs": [
    {
     "data": {
      "text/html": [
       "<div>\n",
       "<style scoped>\n",
       "    .dataframe tbody tr th:only-of-type {\n",
       "        vertical-align: middle;\n",
       "    }\n",
       "\n",
       "    .dataframe tbody tr th {\n",
       "        vertical-align: top;\n",
       "    }\n",
       "\n",
       "    .dataframe thead th {\n",
       "        text-align: right;\n",
       "    }\n",
       "</style>\n",
       "<table border=\"1\" class=\"dataframe\">\n",
       "  <thead>\n",
       "    <tr style=\"text-align: right;\">\n",
       "      <th></th>\n",
       "      <th>df</th>\n",
       "      <th>sum_sq</th>\n",
       "      <th>mean_sq</th>\n",
       "      <th>F</th>\n",
       "      <th>PR(&gt;F)</th>\n",
       "    </tr>\n",
       "  </thead>\n",
       "  <tbody>\n",
       "    <tr>\n",
       "      <th>C(product_name)</th>\n",
       "      <td>4.0</td>\n",
       "      <td>4.381593e+08</td>\n",
       "      <td>1.095398e+08</td>\n",
       "      <td>6366.695742</td>\n",
       "      <td>0.0</td>\n",
       "    </tr>\n",
       "    <tr>\n",
       "      <th>Residual</th>\n",
       "      <td>128845.0</td>\n",
       "      <td>2.216795e+09</td>\n",
       "      <td>1.720513e+04</td>\n",
       "      <td>NaN</td>\n",
       "      <td>NaN</td>\n",
       "    </tr>\n",
       "  </tbody>\n",
       "</table>\n",
       "</div>"
      ],
      "text/plain": [
       "                       df        sum_sq       mean_sq            F  PR(>F)\n",
       "C(product_name)       4.0  4.381593e+08  1.095398e+08  6366.695742     0.0\n",
       "Residual         128845.0  2.216795e+09  1.720513e+04          NaN     NaN"
      ]
     },
     "execution_count": 31,
     "metadata": {},
     "output_type": "execute_result"
    }
   ],
   "source": [
    "sm.stats.anova_lm(model, typ = 1)"
   ]
  },
  {
   "cell_type": "code",
   "execution_count": 32,
   "metadata": {},
   "outputs": [
    {
     "data": {
      "text/html": [
       "<div>\n",
       "<style scoped>\n",
       "    .dataframe tbody tr th:only-of-type {\n",
       "        vertical-align: middle;\n",
       "    }\n",
       "\n",
       "    .dataframe tbody tr th {\n",
       "        vertical-align: top;\n",
       "    }\n",
       "\n",
       "    .dataframe thead th {\n",
       "        text-align: right;\n",
       "    }\n",
       "</style>\n",
       "<table border=\"1\" class=\"dataframe\">\n",
       "  <thead>\n",
       "    <tr style=\"text-align: right;\">\n",
       "      <th></th>\n",
       "      <th>sum_sq</th>\n",
       "      <th>df</th>\n",
       "      <th>F</th>\n",
       "      <th>PR(&gt;F)</th>\n",
       "    </tr>\n",
       "  </thead>\n",
       "  <tbody>\n",
       "    <tr>\n",
       "      <th>Intercept</th>\n",
       "      <td>8.512365e+08</td>\n",
       "      <td>1.0</td>\n",
       "      <td>49475.732517</td>\n",
       "      <td>0.0</td>\n",
       "    </tr>\n",
       "    <tr>\n",
       "      <th>C(product_name)</th>\n",
       "      <td>4.381593e+08</td>\n",
       "      <td>4.0</td>\n",
       "      <td>6366.695742</td>\n",
       "      <td>0.0</td>\n",
       "    </tr>\n",
       "    <tr>\n",
       "      <th>Residual</th>\n",
       "      <td>2.216795e+09</td>\n",
       "      <td>128845.0</td>\n",
       "      <td>NaN</td>\n",
       "      <td>NaN</td>\n",
       "    </tr>\n",
       "  </tbody>\n",
       "</table>\n",
       "</div>"
      ],
      "text/plain": [
       "                       sum_sq        df             F  PR(>F)\n",
       "Intercept        8.512365e+08       1.0  49475.732517     0.0\n",
       "C(product_name)  4.381593e+08       4.0   6366.695742     0.0\n",
       "Residual         2.216795e+09  128845.0           NaN     NaN"
      ]
     },
     "execution_count": 32,
     "metadata": {},
     "output_type": "execute_result"
    }
   ],
   "source": [
    "sm.stats.anova_lm(model, typ = 3)"
   ]
  },
  {
   "cell_type": "markdown",
   "metadata": {},
   "source": [
    "Since the p-value (column PR(>F)) is higher than 0.05, we can not reject the null hypothesis that the mean of the number of items sold is the same for each product category."
   ]
  },
  {
   "cell_type": "markdown",
   "metadata": {},
   "source": [
    "## **Two-way ANOVA**"
   ]
  },
  {
   "cell_type": "code",
   "execution_count": 33,
   "metadata": {},
   "outputs": [],
   "source": [
    "# we just grab the three columns of interest from cleaned_df\n",
    "df2 = cleaned_df[['product_name','country','num_sold']]"
   ]
  },
  {
   "cell_type": "code",
   "execution_count": 34,
   "metadata": {},
   "outputs": [
    {
     "data": {
      "text/html": [
       "<div>\n",
       "<style scoped>\n",
       "    .dataframe tbody tr th:only-of-type {\n",
       "        vertical-align: middle;\n",
       "    }\n",
       "\n",
       "    .dataframe tbody tr th {\n",
       "        vertical-align: top;\n",
       "    }\n",
       "\n",
       "    .dataframe thead th {\n",
       "        text-align: right;\n",
       "    }\n",
       "</style>\n",
       "<table border=\"1\" class=\"dataframe\">\n",
       "  <thead>\n",
       "    <tr style=\"text-align: right;\">\n",
       "      <th></th>\n",
       "      <th>product_name</th>\n",
       "      <th>country</th>\n",
       "      <th>num_sold</th>\n",
       "    </tr>\n",
       "  </thead>\n",
       "  <tbody>\n",
       "    <tr>\n",
       "      <th>0</th>\n",
       "      <td>Improve_Coding</td>\n",
       "      <td>Argentina</td>\n",
       "      <td>63</td>\n",
       "    </tr>\n",
       "    <tr>\n",
       "      <th>1</th>\n",
       "      <td>Improve_Coding</td>\n",
       "      <td>Argentina</td>\n",
       "      <td>88</td>\n",
       "    </tr>\n",
       "    <tr>\n",
       "      <th>2</th>\n",
       "      <td>Improve_Coding</td>\n",
       "      <td>Argentina</td>\n",
       "      <td>340</td>\n",
       "    </tr>\n",
       "    <tr>\n",
       "      <th>3</th>\n",
       "      <td>Improve_Coding</td>\n",
       "      <td>Canada</td>\n",
       "      <td>202</td>\n",
       "    </tr>\n",
       "    <tr>\n",
       "      <th>4</th>\n",
       "      <td>Improve_Coding</td>\n",
       "      <td>Canada</td>\n",
       "      <td>274</td>\n",
       "    </tr>\n",
       "  </tbody>\n",
       "</table>\n",
       "</div>"
      ],
      "text/plain": [
       "     product_name    country  num_sold\n",
       "0  Improve_Coding  Argentina        63\n",
       "1  Improve_Coding  Argentina        88\n",
       "2  Improve_Coding  Argentina       340\n",
       "3  Improve_Coding     Canada       202\n",
       "4  Improve_Coding     Canada       274"
      ]
     },
     "execution_count": 34,
     "metadata": {},
     "output_type": "execute_result"
    }
   ],
   "source": [
    "df2.head()"
   ]
  },
  {
   "cell_type": "code",
   "execution_count": 35,
   "metadata": {},
   "outputs": [
    {
     "data": {
      "text/plain": [
       "array(['Argentina', 'Canada', 'Estonia', 'Japan', 'Spain'], dtype=object)"
      ]
     },
     "execution_count": 35,
     "metadata": {},
     "output_type": "execute_result"
    }
   ],
   "source": [
    "df2['country'].unique()"
   ]
  },
  {
   "cell_type": "code",
   "execution_count": 36,
   "metadata": {},
   "outputs": [
    {
     "data": {
      "text/plain": [
       "Argentina    27390\n",
       "Estonia      27354\n",
       "Spain        27279\n",
       "Japan        25046\n",
       "Canada       21781\n",
       "Name: country, dtype: int64"
      ]
     },
     "execution_count": 36,
     "metadata": {},
     "output_type": "execute_result"
    }
   ],
   "source": [
    "df2['country'].value_counts()"
   ]
  },
  {
   "cell_type": "code",
   "execution_count": 37,
   "metadata": {},
   "outputs": [
    {
     "data": {
      "image/png": "[encoded data removed]",
      "text/plain": [
       "<Figure size 2000x500 with 5 Axes>"
      ]
     },
     "metadata": {},
     "output_type": "display_data"
    }
   ],
   "source": [
    "# checking sales distribution by country\n",
    "\n",
    "sns.set(style = 'whitegrid')\n",
    "fig, axes = plt.subplots(1, 5, figsize = (20, 5), sharey=True)\n",
    "\n",
    "# 1 row with 7 subplots, sharing y-axis\n",
    "\n",
    "countries = ['Argentina', 'Canada', 'Estonia', 'Japan', 'Spain']\n",
    "\n",
    "for i, country in enumerate(countries):\n",
    "    # enumerate() function is used to get both the index and the value of each day in the list \n",
    "    # The index is stored in the variable i, and the day name is stored in the variable day\n",
    "    country_data = df2[df2['country'] == country]\n",
    "    sns.histplot(x='num_sold', data = country_data, \n",
    "                kde = True, alpha = 0.7, ax=axes[i])\n",
    "    axes[i].set_xlabel('Number of items sold')\n",
    "    axes[i].set_ylabel('Frequency')\n",
    "    axes[i].set_title(f'Number of Items Sold in {country}')\n",
    "\n",
    "plt.suptitle('Number of Items Sold by Country')\n",
    "plt.tight_layout()\n",
    "plt.show()"
   ]
  },
  {
   "cell_type": "code",
   "execution_count": 38,
   "metadata": {},
   "outputs": [
    {
     "data": {
      "text/plain": [
       "<AxesSubplot: xlabel='country', ylabel='num_sold'>"
      ]
     },
     "execution_count": 38,
     "metadata": {},
     "output_type": "execute_result"
    },
    {
     "data": {
      "image/png": "[encoded data removed]",
      "text/plain": [
       "<Figure size 640x480 with 1 Axes>"
      ]
     },
     "metadata": {},
     "output_type": "display_data"
    }
   ],
   "source": [
    "sns.boxplot(x=df2['country'], y=df2['num_sold'])"
   ]
  },
  {
   "cell_type": "markdown",
   "metadata": {},
   "source": [
    "We see lots of outliers here as well. Let's address this."
   ]
  },
  {
   "cell_type": "code",
   "execution_count": 39,
   "metadata": {},
   "outputs": [],
   "source": [
    "cleaned_df2 = remove_outliers(df2, 'num_sold', 'country')"
   ]
  },
  {
   "cell_type": "code",
   "execution_count": 40,
   "metadata": {},
   "outputs": [
    {
     "data": {
      "text/html": [
       "<div>\n",
       "<style scoped>\n",
       "    .dataframe tbody tr th:only-of-type {\n",
       "        vertical-align: middle;\n",
       "    }\n",
       "\n",
       "    .dataframe tbody tr th {\n",
       "        vertical-align: top;\n",
       "    }\n",
       "\n",
       "    .dataframe thead th {\n",
       "        text-align: right;\n",
       "    }\n",
       "</style>\n",
       "<table border=\"1\" class=\"dataframe\">\n",
       "  <thead>\n",
       "    <tr style=\"text-align: right;\">\n",
       "      <th></th>\n",
       "      <th>product_name</th>\n",
       "      <th>country</th>\n",
       "      <th>num_sold</th>\n",
       "    </tr>\n",
       "  </thead>\n",
       "  <tbody>\n",
       "    <tr>\n",
       "      <th>0</th>\n",
       "      <td>Improve_Coding</td>\n",
       "      <td>Argentina</td>\n",
       "      <td>63</td>\n",
       "    </tr>\n",
       "    <tr>\n",
       "      <th>1</th>\n",
       "      <td>Improve_Coding</td>\n",
       "      <td>Argentina</td>\n",
       "      <td>88</td>\n",
       "    </tr>\n",
       "    <tr>\n",
       "      <th>2</th>\n",
       "      <td>Improve_Coding</td>\n",
       "      <td>Argentina</td>\n",
       "      <td>51</td>\n",
       "    </tr>\n",
       "    <tr>\n",
       "      <th>3</th>\n",
       "      <td>Improve_Coding</td>\n",
       "      <td>Argentina</td>\n",
       "      <td>74</td>\n",
       "    </tr>\n",
       "    <tr>\n",
       "      <th>4</th>\n",
       "      <td>Improve_Coding</td>\n",
       "      <td>Argentina</td>\n",
       "      <td>44</td>\n",
       "    </tr>\n",
       "  </tbody>\n",
       "</table>\n",
       "</div>"
      ],
      "text/plain": [
       "     product_name    country  num_sold\n",
       "0  Improve_Coding  Argentina        63\n",
       "1  Improve_Coding  Argentina        88\n",
       "2  Improve_Coding  Argentina        51\n",
       "3  Improve_Coding  Argentina        74\n",
       "4  Improve_Coding  Argentina        44"
      ]
     },
     "execution_count": 40,
     "metadata": {},
     "output_type": "execute_result"
    }
   ],
   "source": [
    "cleaned_df2.head()"
   ]
  },
  {
   "cell_type": "code",
   "execution_count": 41,
   "metadata": {},
   "outputs": [
    {
     "data": {
      "text/plain": [
       "<AxesSubplot: xlabel='country', ylabel='num_sold'>"
      ]
     },
     "execution_count": 41,
     "metadata": {},
     "output_type": "execute_result"
    },
    {
     "data": {
      "image/png": "[encoded data removed]",
      "text/plain": [
       "<Figure size 640x480 with 1 Axes>"
      ]
     },
     "metadata": {},
     "output_type": "display_data"
    }
   ],
   "source": [
    "sns.boxplot(x=cleaned_df2['country'], y=cleaned_df2['num_sold'])"
   ]
  },
  {
   "cell_type": "code",
   "execution_count": 42,
   "metadata": {},
   "outputs": [
    {
     "data": {
      "text/html": [
       "<div>\n",
       "<style scoped>\n",
       "    .dataframe tbody tr th:only-of-type {\n",
       "        vertical-align: middle;\n",
       "    }\n",
       "\n",
       "    .dataframe tbody tr th {\n",
       "        vertical-align: top;\n",
       "    }\n",
       "\n",
       "    .dataframe thead th {\n",
       "        text-align: right;\n",
       "    }\n",
       "</style>\n",
       "<table border=\"1\" class=\"dataframe\">\n",
       "  <thead>\n",
       "    <tr style=\"text-align: right;\">\n",
       "      <th></th>\n",
       "      <th>product_name</th>\n",
       "      <th>country</th>\n",
       "      <th>num_sold</th>\n",
       "    </tr>\n",
       "  </thead>\n",
       "  <tbody>\n",
       "    <tr>\n",
       "      <th>0</th>\n",
       "      <td>Improve_Coding</td>\n",
       "      <td>Argentina</td>\n",
       "      <td>63</td>\n",
       "    </tr>\n",
       "    <tr>\n",
       "      <th>1</th>\n",
       "      <td>Improve_Coding</td>\n",
       "      <td>Argentina</td>\n",
       "      <td>88</td>\n",
       "    </tr>\n",
       "    <tr>\n",
       "      <th>2</th>\n",
       "      <td>Improve_Coding</td>\n",
       "      <td>Argentina</td>\n",
       "      <td>51</td>\n",
       "    </tr>\n",
       "    <tr>\n",
       "      <th>3</th>\n",
       "      <td>Improve_Coding</td>\n",
       "      <td>Argentina</td>\n",
       "      <td>74</td>\n",
       "    </tr>\n",
       "    <tr>\n",
       "      <th>4</th>\n",
       "      <td>Improve_Coding</td>\n",
       "      <td>Argentina</td>\n",
       "      <td>44</td>\n",
       "    </tr>\n",
       "  </tbody>\n",
       "</table>\n",
       "</div>"
      ],
      "text/plain": [
       "     product_name    country  num_sold\n",
       "0  Improve_Coding  Argentina        63\n",
       "1  Improve_Coding  Argentina        88\n",
       "2  Improve_Coding  Argentina        51\n",
       "3  Improve_Coding  Argentina        74\n",
       "4  Improve_Coding  Argentina        44"
      ]
     },
     "execution_count": 42,
     "metadata": {},
     "output_type": "execute_result"
    }
   ],
   "source": [
    "cleaned_df2.head()"
   ]
  },
  {
   "cell_type": "code",
   "execution_count": 43,
   "metadata": {},
   "outputs": [
    {
     "data": {
      "text/html": [
       "<table class=\"simpletable\">\n",
       "<caption>OLS Regression Results</caption>\n",
       "<tr>\n",
       "  <th>Dep. Variable:</th>        <td>num_sold</td>     <th>  R-squared:         </th>  <td>   0.317</td>  \n",
       "</tr>\n",
       "<tr>\n",
       "  <th>Model:</th>                   <td>OLS</td>       <th>  Adj. R-squared:    </th>  <td>   0.317</td>  \n",
       "</tr>\n",
       "<tr>\n",
       "  <th>Method:</th>             <td>Least Squares</td>  <th>  F-statistic:       </th>  <td>   2311.</td>  \n",
       "</tr>\n",
       "<tr>\n",
       "  <th>Date:</th>             <td>Tue, 25 Jul 2023</td> <th>  Prob (F-statistic):</th>   <td>  0.00</td>   \n",
       "</tr>\n",
       "<tr>\n",
       "  <th>Time:</th>                 <td>14:26:51</td>     <th>  Log-Likelihood:    </th> <td>-7.0371e+05</td>\n",
       "</tr>\n",
       "<tr>\n",
       "  <th>No. Observations:</th>      <td>119580</td>      <th>  AIC:               </th>  <td>1.407e+06</td> \n",
       "</tr>\n",
       "<tr>\n",
       "  <th>Df Residuals:</th>          <td>119555</td>      <th>  BIC:               </th>  <td>1.408e+06</td> \n",
       "</tr>\n",
       "<tr>\n",
       "  <th>Df Model:</th>              <td>    24</td>      <th>                     </th>      <td> </td>     \n",
       "</tr>\n",
       "<tr>\n",
       "  <th>Covariance Type:</th>      <td>nonrobust</td>    <th>                     </th>      <td> </td>     \n",
       "</tr>\n",
       "</table>\n",
       "<table class=\"simpletable\">\n",
       "<tr>\n",
       "                              <td></td>                                <th>coef</th>     <th>std err</th>      <th>t</th>      <th>P>|t|</th>  <th>[0.025</th>    <th>0.975]</th>  \n",
       "</tr>\n",
       "<tr>\n",
       "  <th>Intercept</th>                                                <td>   68.9017</td> <td>    1.228</td> <td>   56.131</td> <td> 0.000</td> <td>   66.496</td> <td>   71.308</td>\n",
       "</tr>\n",
       "<tr>\n",
       "  <th>C(product_name)[T.Train_More_LLMs]</th>                       <td>    0.1915</td> <td>    1.734</td> <td>    0.110</td> <td> 0.912</td> <td>   -3.207</td> <td>    3.590</td>\n",
       "</tr>\n",
       "<tr>\n",
       "  <th>C(product_name)[T.Win_Influence]</th>                         <td>  -56.4871</td> <td>    1.700</td> <td>  -33.235</td> <td> 0.000</td> <td>  -59.818</td> <td>  -53.156</td>\n",
       "</tr>\n",
       "<tr>\n",
       "  <th>C(product_name)[T.Win_Kaggle]</th>                            <td>   -4.9339</td> <td>    1.713</td> <td>   -2.881</td> <td> 0.004</td> <td>   -8.291</td> <td>   -1.577</td>\n",
       "</tr>\n",
       "<tr>\n",
       "  <th>C(product_name)[T.Write_Better]</th>                          <td>   -9.2952</td> <td>    1.707</td> <td>   -5.444</td> <td> 0.000</td> <td>  -12.642</td> <td>   -5.949</td>\n",
       "</tr>\n",
       "<tr>\n",
       "  <th>C(country)[T.Canada]</th>                                     <td>   89.9987</td> <td>    1.893</td> <td>   47.534</td> <td> 0.000</td> <td>   86.288</td> <td>   93.710</td>\n",
       "</tr>\n",
       "<tr>\n",
       "  <th>C(country)[T.Estonia]</th>                                    <td>   97.4257</td> <td>    1.709</td> <td>   56.991</td> <td> 0.000</td> <td>   94.075</td> <td>  100.776</td>\n",
       "</tr>\n",
       "<tr>\n",
       "  <th>C(country)[T.Japan]</th>                                      <td>   67.3826</td> <td>    1.892</td> <td>   35.614</td> <td> 0.000</td> <td>   63.674</td> <td>   71.091</td>\n",
       "</tr>\n",
       "<tr>\n",
       "  <th>C(country)[T.Spain]</th>                                      <td>  137.8613</td> <td>    1.707</td> <td>   80.758</td> <td> 0.000</td> <td>  134.515</td> <td>  141.207</td>\n",
       "</tr>\n",
       "<tr>\n",
       "  <th>C(product_name)[T.Train_More_LLMs]:C(country)[T.Canada]</th>  <td>   -2.4756</td> <td>    2.676</td> <td>   -0.925</td> <td> 0.355</td> <td>   -7.721</td> <td>    2.770</td>\n",
       "</tr>\n",
       "<tr>\n",
       "  <th>C(product_name)[T.Win_Influence]:C(country)[T.Canada]</th>    <td>  -63.8535</td> <td>    2.577</td> <td>  -24.778</td> <td> 0.000</td> <td>  -68.904</td> <td>  -58.803</td>\n",
       "</tr>\n",
       "<tr>\n",
       "  <th>C(product_name)[T.Win_Kaggle]:C(country)[T.Canada]</th>       <td>  -21.1938</td> <td>    2.662</td> <td>   -7.962</td> <td> 0.000</td> <td>  -26.411</td> <td>  -15.977</td>\n",
       "</tr>\n",
       "<tr>\n",
       "  <th>C(product_name)[T.Write_Better]:C(country)[T.Canada]</th>     <td>  -28.7738</td> <td>    2.658</td> <td>  -10.825</td> <td> 0.000</td> <td>  -33.984</td> <td>  -23.564</td>\n",
       "</tr>\n",
       "<tr>\n",
       "  <th>C(product_name)[T.Train_More_LLMs]:C(country)[T.Estonia]</th> <td>    2.4235</td> <td>    2.412</td> <td>    1.005</td> <td> 0.315</td> <td>   -2.305</td> <td>    7.152</td>\n",
       "</tr>\n",
       "<tr>\n",
       "  <th>C(product_name)[T.Win_Influence]:C(country)[T.Estonia]</th>   <td>  -83.0670</td> <td>    2.385</td> <td>  -34.833</td> <td> 0.000</td> <td>  -87.741</td> <td>  -78.393</td>\n",
       "</tr>\n",
       "<tr>\n",
       "  <th>C(product_name)[T.Win_Kaggle]:C(country)[T.Estonia]</th>      <td>  -17.1204</td> <td>    2.395</td> <td>   -7.148</td> <td> 0.000</td> <td>  -21.815</td> <td>  -12.426</td>\n",
       "</tr>\n",
       "<tr>\n",
       "  <th>C(product_name)[T.Write_Better]:C(country)[T.Estonia]</th>    <td>  -25.0169</td> <td>    2.391</td> <td>  -10.464</td> <td> 0.000</td> <td>  -29.703</td> <td>  -20.331</td>\n",
       "</tr>\n",
       "<tr>\n",
       "  <th>C(product_name)[T.Train_More_LLMs]:C(country)[T.Japan]</th>   <td>   -1.6720</td> <td>    2.675</td> <td>   -0.625</td> <td> 0.532</td> <td>   -6.914</td> <td>    3.570</td>\n",
       "</tr>\n",
       "<tr>\n",
       "  <th>C(product_name)[T.Win_Influence]:C(country)[T.Japan]</th>     <td>  -37.0140</td> <td>    2.529</td> <td>  -14.638</td> <td> 0.000</td> <td>  -41.970</td> <td>  -32.058</td>\n",
       "</tr>\n",
       "<tr>\n",
       "  <th>C(product_name)[T.Win_Kaggle]:C(country)[T.Japan]</th>        <td>  -17.5405</td> <td>    2.660</td> <td>   -6.593</td> <td> 0.000</td> <td>  -22.755</td> <td>  -12.326</td>\n",
       "</tr>\n",
       "<tr>\n",
       "  <th>C(product_name)[T.Write_Better]:C(country)[T.Japan]</th>      <td>  -22.7970</td> <td>    2.656</td> <td>   -8.584</td> <td> 0.000</td> <td>  -28.002</td> <td>  -17.592</td>\n",
       "</tr>\n",
       "<tr>\n",
       "  <th>C(product_name)[T.Train_More_LLMs]:C(country)[T.Spain]</th>   <td>    1.0406</td> <td>    2.410</td> <td>    0.432</td> <td> 0.666</td> <td>   -3.683</td> <td>    5.764</td>\n",
       "</tr>\n",
       "<tr>\n",
       "  <th>C(product_name)[T.Win_Influence]:C(country)[T.Spain]</th>     <td> -117.5634</td> <td>    2.383</td> <td>  -49.325</td> <td> 0.000</td> <td> -122.235</td> <td> -112.892</td>\n",
       "</tr>\n",
       "<tr>\n",
       "  <th>C(product_name)[T.Win_Kaggle]:C(country)[T.Spain]</th>        <td>  -25.2094</td> <td>    2.394</td> <td>  -10.532</td> <td> 0.000</td> <td>  -29.901</td> <td>  -20.518</td>\n",
       "</tr>\n",
       "<tr>\n",
       "  <th>C(product_name)[T.Write_Better]:C(country)[T.Spain]</th>      <td>  -38.0039</td> <td>    2.391</td> <td>  -15.896</td> <td> 0.000</td> <td>  -42.690</td> <td>  -33.318</td>\n",
       "</tr>\n",
       "</table>\n",
       "<table class=\"simpletable\">\n",
       "<tr>\n",
       "  <th>Omnibus:</th>       <td>24527.277</td> <th>  Durbin-Watson:     </th> <td>   2.856</td> \n",
       "</tr>\n",
       "<tr>\n",
       "  <th>Prob(Omnibus):</th>  <td> 0.000</td>   <th>  Jarque-Bera (JB):  </th> <td>47136.123</td>\n",
       "</tr>\n",
       "<tr>\n",
       "  <th>Skew:</th>           <td> 1.261</td>   <th>  Prob(JB):          </th> <td>    0.00</td> \n",
       "</tr>\n",
       "<tr>\n",
       "  <th>Kurtosis:</th>       <td> 4.761</td>   <th>  Cond. No.          </th> <td>    33.4</td> \n",
       "</tr>\n",
       "</table><br/><br/>Notes:<br/>[1] Standard Errors assume that the covariance matrix of the errors is correctly specified."
      ],
      "text/plain": [
       "<class 'statsmodels.iolib.summary.Summary'>\n",
       "\"\"\"\n",
       "                            OLS Regression Results                            \n",
       "==============================================================================\n",
       "Dep. Variable:               num_sold   R-squared:                       0.317\n",
       "Model:                            OLS   Adj. R-squared:                  0.317\n",
       "Method:                 Least Squares   F-statistic:                     2311.\n",
       "Date:                Tue, 25 Jul 2023   Prob (F-statistic):               0.00\n",
       "Time:                        14:26:51   Log-Likelihood:            -7.0371e+05\n",
       "No. Observations:              119580   AIC:                         1.407e+06\n",
       "Df Residuals:                  119555   BIC:                         1.408e+06\n",
       "Df Model:                          24                                         \n",
       "Covariance Type:            nonrobust                                         \n",
       "============================================================================================================================\n",
       "                                                               coef    std err          t      P>|t|      [0.025      0.975]\n",
       "----------------------------------------------------------------------------------------------------------------------------\n",
       "Intercept                                                   68.9017      1.228     56.131      0.000      66.496      71.308\n",
       "C(product_name)[T.Train_More_LLMs]                           0.1915      1.734      0.110      0.912      -3.207       3.590\n",
       "C(product_name)[T.Win_Influence]                           -56.4871      1.700    -33.235      0.000     -59.818     -53.156\n",
       "C(product_name)[T.Win_Kaggle]                               -4.9339      1.713     -2.881      0.004      -8.291      -1.577\n",
       "C(product_name)[T.Write_Better]                             -9.2952      1.707     -5.444      0.000     -12.642      -5.949\n",
       "C(country)[T.Canada]                                        89.9987      1.893     47.534      0.000      86.288      93.710\n",
       "C(country)[T.Estonia]                                       97.4257      1.709     56.991      0.000      94.075     100.776\n",
       "C(country)[T.Japan]                                         67.3826      1.892     35.614      0.000      63.674      71.091\n",
       "C(country)[T.Spain]                                        137.8613      1.707     80.758      0.000     134.515     141.207\n",
       "C(product_name)[T.Train_More_LLMs]:C(country)[T.Canada]     -2.4756      2.676     -0.925      0.355      -7.721       2.770\n",
       "C(product_name)[T.Win_Influence]:C(country)[T.Canada]      -63.8535      2.577    -24.778      0.000     -68.904     -58.803\n",
       "C(product_name)[T.Win_Kaggle]:C(country)[T.Canada]         -21.1938      2.662     -7.962      0.000     -26.411     -15.977\n",
       "C(product_name)[T.Write_Better]:C(country)[T.Canada]       -28.7738      2.658    -10.825      0.000     -33.984     -23.564\n",
       "C(product_name)[T.Train_More_LLMs]:C(country)[T.Estonia]     2.4235      2.412      1.005      0.315      -2.305       7.152\n",
       "C(product_name)[T.Win_Influence]:C(country)[T.Estonia]     -83.0670      2.385    -34.833      0.000     -87.741     -78.393\n",
       "C(product_name)[T.Win_Kaggle]:C(country)[T.Estonia]        -17.1204      2.395     -7.148      0.000     -21.815     -12.426\n",
       "C(product_name)[T.Write_Better]:C(country)[T.Estonia]      -25.0169      2.391    -10.464      0.000     -29.703     -20.331\n",
       "C(product_name)[T.Train_More_LLMs]:C(country)[T.Japan]      -1.6720      2.675     -0.625      0.532      -6.914       3.570\n",
       "C(product_name)[T.Win_Influence]:C(country)[T.Japan]       -37.0140      2.529    -14.638      0.000     -41.970     -32.058\n",
       "C(product_name)[T.Win_Kaggle]:C(country)[T.Japan]          -17.5405      2.660     -6.593      0.000     -22.755     -12.326\n",
       "C(product_name)[T.Write_Better]:C(country)[T.Japan]        -22.7970      2.656     -8.584      0.000     -28.002     -17.592\n",
       "C(product_name)[T.Train_More_LLMs]:C(country)[T.Spain]       1.0406      2.410      0.432      0.666      -3.683       5.764\n",
       "C(product_name)[T.Win_Influence]:C(country)[T.Spain]      -117.5634      2.383    -49.325      0.000    -122.235    -112.892\n",
       "C(product_name)[T.Win_Kaggle]:C(country)[T.Spain]          -25.2094      2.394    -10.532      0.000     -29.901     -20.518\n",
       "C(product_name)[T.Write_Better]:C(country)[T.Spain]        -38.0039      2.391    -15.896      0.000     -42.690     -33.318\n",
       "==============================================================================\n",
       "Omnibus:                    24527.277   Durbin-Watson:                   2.856\n",
       "Prob(Omnibus):                  0.000   Jarque-Bera (JB):            47136.123\n",
       "Skew:                           1.261   Prob(JB):                         0.00\n",
       "Kurtosis:                       4.761   Cond. No.                         33.4\n",
       "==============================================================================\n",
       "\n",
       "Notes:\n",
       "[1] Standard Errors assume that the covariance matrix of the errors is correctly specified.\n",
       "\"\"\""
      ]
     },
     "execution_count": 43,
     "metadata": {},
     "output_type": "execute_result"
    }
   ],
   "source": [
    "# colon indicates interaction between product_name and country variables\n",
    "formula2 = 'num_sold ~ C(product_name) + C(country) + C(product_name):C(country)'\n",
    "model2 = ols(formula = formula2, data = cleaned_df2).fit()\n",
    "model2.summary()"
   ]
  },
  {
   "cell_type": "markdown",
   "metadata": {},
   "source": [
    "Based on the model summary table, all of countries' associated beta coefficients have a p-value of less than 0.05 (P>|t| column) and all of product categories' beta coefficients have a p-value greater than 0.05. Additionally, some of the interactions also seem statistically signifcant. We'll use a two-way ANOVA to examine further the relationships between number of items sold and categories of product and countries."
   ]
  },
  {
   "cell_type": "markdown",
   "metadata": {},
   "source": [
    "First, we have to state our three pairs of null and alternative hypotheses:\n",
    "\n",
    "**Null Hypothesis (Product)**\n",
    "\n",
    "$$H_0: \\mu_{\\text{Improve\\_Coding}} = \\mu_{\\text{Train\\_More\\_LLMs}} = \\mu_{\\text{Win\\_Influence}} = \\mu_{\\text{Win\\_Kaggle}} = \\mu_{\\text{Write\\_Better}}$$\n",
    "\n",
    "There is no difference in the number of items sold based on product category.\n",
    "\n",
    "**Alternative Hypothesis (Product)**\n",
    "$$H_0: \\text{Not } \\mu_{\\text{Improve\\_Coding}} = \\mu_{\\text{Train\\_More\\_LLMs}} = \\mu_{\\text{Win\\_Influence}} = \\mu_{\\text{Win\\_Kaggle}} = \\mu_{\\text{Write\\_Better}}$$\n",
    "\n",
    "There is a difference in the number of items sold based on product category.\n",
    "\n",
    "**Null Hypothesis (Country)**\n",
    "\n",
    "$$H_0: \\mu_{\\text{Argentina}} = \\mu_{\\text{Canada}} = \\mu_{\\text{Estonia}} = \\mu_{\\text{Japan}} = \\mu_{\\text{Spain}}$$\n",
    "\n",
    "There is no difference in the number of items sold based on country.\n",
    "\n",
    "**Alternative Hypothesis (Country)**\n",
    "$$H_0: \\text{Not } \\mu_{\\text{Argentina}} = \\mu_{\\text{Canada}} = \\mu_{\\text{Estonia}} = \\mu_{\\text{Japan}} = \\mu_{\\text{Spain}}$$\n",
    "\n",
    "There is a difference in the number of items sold based on product country.\n",
    "\n",
    "**Null Hypothesis (Interaction)**\n",
    "\n",
    "$$H_0: \\text{The effect of product category on number of items sold is independent of the country, and vice versa.}$$\n",
    "\n",
    "**Alternative Hypothesis (Interaction)**\n",
    "\n",
    "$$H_1: \\text{There is an interaction effect between product category and country on the number of items sold.}$$"
   ]
  },
  {
   "cell_type": "code",
   "execution_count": 44,
   "metadata": {},
   "outputs": [
    {
     "data": {
      "text/html": [
       "<div>\n",
       "<style scoped>\n",
       "    .dataframe tbody tr th:only-of-type {\n",
       "        vertical-align: middle;\n",
       "    }\n",
       "\n",
       "    .dataframe tbody tr th {\n",
       "        vertical-align: top;\n",
       "    }\n",
       "\n",
       "    .dataframe thead th {\n",
       "        text-align: right;\n",
       "    }\n",
       "</style>\n",
       "<table border=\"1\" class=\"dataframe\">\n",
       "  <thead>\n",
       "    <tr style=\"text-align: right;\">\n",
       "      <th></th>\n",
       "      <th>sum_sq</th>\n",
       "      <th>df</th>\n",
       "      <th>F</th>\n",
       "      <th>PR(&gt;F)</th>\n",
       "    </tr>\n",
       "  </thead>\n",
       "  <tbody>\n",
       "    <tr>\n",
       "      <th>C(product_name)</th>\n",
       "      <td>2.390016e+08</td>\n",
       "      <td>4.0</td>\n",
       "      <td>7892.859234</td>\n",
       "      <td>0.0</td>\n",
       "    </tr>\n",
       "    <tr>\n",
       "      <th>C(country)</th>\n",
       "      <td>1.460062e+08</td>\n",
       "      <td>4.0</td>\n",
       "      <td>4821.750351</td>\n",
       "      <td>0.0</td>\n",
       "    </tr>\n",
       "    <tr>\n",
       "      <th>C(product_name):C(country)</th>\n",
       "      <td>3.018114e+07</td>\n",
       "      <td>16.0</td>\n",
       "      <td>249.177703</td>\n",
       "      <td>0.0</td>\n",
       "    </tr>\n",
       "    <tr>\n",
       "      <th>Residual</th>\n",
       "      <td>9.050535e+08</td>\n",
       "      <td>119555.0</td>\n",
       "      <td>NaN</td>\n",
       "      <td>NaN</td>\n",
       "    </tr>\n",
       "  </tbody>\n",
       "</table>\n",
       "</div>"
      ],
      "text/plain": [
       "                                  sum_sq        df            F  PR(>F)\n",
       "C(product_name)             2.390016e+08       4.0  7892.859234     0.0\n",
       "C(country)                  1.460062e+08       4.0  4821.750351     0.0\n",
       "C(product_name):C(country)  3.018114e+07      16.0   249.177703     0.0\n",
       "Residual                    9.050535e+08  119555.0          NaN     NaN"
      ]
     },
     "execution_count": 44,
     "metadata": {},
     "output_type": "execute_result"
    }
   ],
   "source": [
    "# two way anova\n",
    "sm.stats.anova_lm(model2, typ=2)"
   ]
  },
  {
   "cell_type": "markdown",
   "metadata": {},
   "source": [
    "**Results**\n",
    "- Product Category: Since the p-value is greater than the typical significance level of 0.05, we do not have enough evidence to reject the null hypothesis for product_name. This suggests that there is no significant difference in the number of items sold based on product categories.\n",
    "- Country: The p-value is significantly smaller than 0.05, indicating strong evidence to reject the null hypothesis for country. This means that there is a significant difference in the number of items sold based on different countries.\n",
    "- Interaction: Since the p-value is less than 0.05, we have enough evidence to reject the null hypothesis for the interaction effect. This indicates that there is a significant interaction between product categories and countries on the number of items sold."
   ]
  },
  {
   "cell_type": "markdown",
   "metadata": {},
   "source": [
    "### **ANOVA Post-hoc Test**"
   ]
  },
  {
   "cell_type": "code",
   "execution_count": 45,
   "metadata": {},
   "outputs": [
    {
     "data": {
      "text/html": [
       "<table class=\"simpletable\">\n",
       "<caption>OLS Regression Results</caption>\n",
       "<tr>\n",
       "  <th>Dep. Variable:</th>        <td>num_sold</td>     <th>  R-squared:         </th>  <td>   0.165</td>  \n",
       "</tr>\n",
       "<tr>\n",
       "  <th>Model:</th>                   <td>OLS</td>       <th>  Adj. R-squared:    </th>  <td>   0.165</td>  \n",
       "</tr>\n",
       "<tr>\n",
       "  <th>Method:</th>             <td>Least Squares</td>  <th>  F-statistic:       </th>  <td>   6367.</td>  \n",
       "</tr>\n",
       "<tr>\n",
       "  <th>Date:</th>             <td>Tue, 25 Jul 2023</td> <th>  Prob (F-statistic):</th>   <td>  0.00</td>   \n",
       "</tr>\n",
       "<tr>\n",
       "  <th>Time:</th>                 <td>14:26:51</td>     <th>  Log-Likelihood:    </th> <td>-8.1116e+05</td>\n",
       "</tr>\n",
       "<tr>\n",
       "  <th>No. Observations:</th>      <td>128850</td>      <th>  AIC:               </th>  <td>1.622e+06</td> \n",
       "</tr>\n",
       "<tr>\n",
       "  <th>Df Residuals:</th>          <td>128845</td>      <th>  BIC:               </th>  <td>1.622e+06</td> \n",
       "</tr>\n",
       "<tr>\n",
       "  <th>Df Model:</th>              <td>     4</td>      <th>                     </th>      <td> </td>     \n",
       "</tr>\n",
       "<tr>\n",
       "  <th>Covariance Type:</th>      <td>nonrobust</td>    <th>                     </th>      <td> </td>     \n",
       "</tr>\n",
       "</table>\n",
       "<table class=\"simpletable\">\n",
       "<tr>\n",
       "                   <td></td>                     <th>coef</th>     <th>std err</th>      <th>t</th>      <th>P>|t|</th>  <th>[0.025</th>    <th>0.975]</th>  \n",
       "</tr>\n",
       "<tr>\n",
       "  <th>Intercept</th>                          <td>  182.6174</td> <td>    0.821</td> <td>  222.431</td> <td> 0.000</td> <td>  181.008</td> <td>  184.227</td>\n",
       "</tr>\n",
       "<tr>\n",
       "  <th>C(product_name)[T.Train_More_LLMs]</th> <td>    9.4747</td> <td>    1.155</td> <td>    8.204</td> <td> 0.000</td> <td>    7.211</td> <td>   11.738</td>\n",
       "</tr>\n",
       "<tr>\n",
       "  <th>C(product_name)[T.Win_Influence]</th>   <td> -152.3469</td> <td>    1.153</td> <td> -132.099</td> <td> 0.000</td> <td> -154.607</td> <td> -150.086</td>\n",
       "</tr>\n",
       "<tr>\n",
       "  <th>C(product_name)[T.Win_Kaggle]</th>      <td>  -28.5603</td> <td>    1.160</td> <td>  -24.619</td> <td> 0.000</td> <td>  -30.834</td> <td>  -26.287</td>\n",
       "</tr>\n",
       "<tr>\n",
       "  <th>C(product_name)[T.Write_Better]</th>    <td>  -46.5611</td> <td>    1.162</td> <td>  -40.053</td> <td> 0.000</td> <td>  -48.840</td> <td>  -44.283</td>\n",
       "</tr>\n",
       "</table>\n",
       "<table class=\"simpletable\">\n",
       "<tr>\n",
       "  <th>Omnibus:</th>       <td>35115.376</td> <th>  Durbin-Watson:     </th> <td>   2.530</td> \n",
       "</tr>\n",
       "<tr>\n",
       "  <th>Prob(Omnibus):</th>  <td> 0.000</td>   <th>  Jarque-Bera (JB):  </th> <td>77857.811</td>\n",
       "</tr>\n",
       "<tr>\n",
       "  <th>Skew:</th>           <td> 1.588</td>   <th>  Prob(JB):          </th> <td>    0.00</td> \n",
       "</tr>\n",
       "<tr>\n",
       "  <th>Kurtosis:</th>       <td> 5.100</td>   <th>  Cond. No.          </th> <td>    5.85</td> \n",
       "</tr>\n",
       "</table><br/><br/>Notes:<br/>[1] Standard Errors assume that the covariance matrix of the errors is correctly specified."
      ],
      "text/plain": [
       "<class 'statsmodels.iolib.summary.Summary'>\n",
       "\"\"\"\n",
       "                            OLS Regression Results                            \n",
       "==============================================================================\n",
       "Dep. Variable:               num_sold   R-squared:                       0.165\n",
       "Model:                            OLS   Adj. R-squared:                  0.165\n",
       "Method:                 Least Squares   F-statistic:                     6367.\n",
       "Date:                Tue, 25 Jul 2023   Prob (F-statistic):               0.00\n",
       "Time:                        14:26:51   Log-Likelihood:            -8.1116e+05\n",
       "No. Observations:              128850   AIC:                         1.622e+06\n",
       "Df Residuals:                  128845   BIC:                         1.622e+06\n",
       "Df Model:                           4                                         \n",
       "Covariance Type:            nonrobust                                         \n",
       "======================================================================================================\n",
       "                                         coef    std err          t      P>|t|      [0.025      0.975]\n",
       "------------------------------------------------------------------------------------------------------\n",
       "Intercept                            182.6174      0.821    222.431      0.000     181.008     184.227\n",
       "C(product_name)[T.Train_More_LLMs]     9.4747      1.155      8.204      0.000       7.211      11.738\n",
       "C(product_name)[T.Win_Influence]    -152.3469      1.153   -132.099      0.000    -154.607    -150.086\n",
       "C(product_name)[T.Win_Kaggle]        -28.5603      1.160    -24.619      0.000     -30.834     -26.287\n",
       "C(product_name)[T.Write_Better]      -46.5611      1.162    -40.053      0.000     -48.840     -44.283\n",
       "==============================================================================\n",
       "Omnibus:                    35115.376   Durbin-Watson:                   2.530\n",
       "Prob(Omnibus):                  0.000   Jarque-Bera (JB):            77857.811\n",
       "Skew:                           1.588   Prob(JB):                         0.00\n",
       "Kurtosis:                       5.100   Cond. No.                         5.85\n",
       "==============================================================================\n",
       "\n",
       "Notes:\n",
       "[1] Standard Errors assume that the covariance matrix of the errors is correctly specified.\n",
       "\"\"\""
      ]
     },
     "execution_count": 45,
     "metadata": {},
     "output_type": "execute_result"
    }
   ],
   "source": [
    "# summary of the first model\n",
    "model.summary()"
   ]
  },
  {
   "cell_type": "code",
   "execution_count": 46,
   "metadata": {},
   "outputs": [
    {
     "data": {
      "text/html": [
       "<div>\n",
       "<style scoped>\n",
       "    .dataframe tbody tr th:only-of-type {\n",
       "        vertical-align: middle;\n",
       "    }\n",
       "\n",
       "    .dataframe tbody tr th {\n",
       "        vertical-align: top;\n",
       "    }\n",
       "\n",
       "    .dataframe thead th {\n",
       "        text-align: right;\n",
       "    }\n",
       "</style>\n",
       "<table border=\"1\" class=\"dataframe\">\n",
       "  <thead>\n",
       "    <tr style=\"text-align: right;\">\n",
       "      <th></th>\n",
       "      <th>sum_sq</th>\n",
       "      <th>df</th>\n",
       "      <th>F</th>\n",
       "      <th>PR(&gt;F)</th>\n",
       "    </tr>\n",
       "  </thead>\n",
       "  <tbody>\n",
       "    <tr>\n",
       "      <th>C(product_name)</th>\n",
       "      <td>4.381593e+08</td>\n",
       "      <td>4.0</td>\n",
       "      <td>6366.695742</td>\n",
       "      <td>0.0</td>\n",
       "    </tr>\n",
       "    <tr>\n",
       "      <th>Residual</th>\n",
       "      <td>2.216795e+09</td>\n",
       "      <td>128845.0</td>\n",
       "      <td>NaN</td>\n",
       "      <td>NaN</td>\n",
       "    </tr>\n",
       "  </tbody>\n",
       "</table>\n",
       "</div>"
      ],
      "text/plain": [
       "                       sum_sq        df            F  PR(>F)\n",
       "C(product_name)  4.381593e+08       4.0  6366.695742     0.0\n",
       "Residual         2.216795e+09  128845.0          NaN     NaN"
      ]
     },
     "execution_count": 46,
     "metadata": {},
     "output_type": "execute_result"
    }
   ],
   "source": [
    "# one-way ANOVA\n",
    "sm.stats.anova_lm(model, typ=2)"
   ]
  },
  {
   "cell_type": "markdown",
   "metadata": {},
   "source": [
    "In the initial one-way ANOVA performed to test the differences in the number of items sold based on product categories, the null hypothesis was not rejected, indicating that there were no significant differences among the product categories. As a result, a post hoc test for the product categories is unnecessary, as there were no significant pairwise differences to explore further."
   ]
  },
  {
   "cell_type": "code",
   "execution_count": 47,
   "metadata": {},
   "outputs": [
    {
     "name": "stdout",
     "output_type": "stream",
     "text": [
      "Post Hoc Test for Product Categories:\n",
      "           Multiple Comparison of Means - Tukey HSD, FWER=0.05            \n",
      "==========================================================================\n",
      "     group1          group2      meandiff p-adj   lower     upper   reject\n",
      "--------------------------------------------------------------------------\n",
      " Improve_Coding Train_More_LLMs    0.4712 0.984   -1.9413    2.8837  False\n",
      " Improve_Coding   Win_Influence -118.3211   0.0 -120.6631 -115.9791   True\n",
      " Improve_Coding      Win_Kaggle  -21.4626   0.0  -23.8668  -19.0583   True\n",
      " Improve_Coding    Write_Better  -32.8037   0.0   -35.206  -30.4014   True\n",
      "Train_More_LLMs   Win_Influence -118.7923   0.0 -121.1303 -116.4543   True\n",
      "Train_More_LLMs      Win_Kaggle  -21.9338   0.0  -24.3341  -19.5334   True\n",
      "Train_More_LLMs    Write_Better  -33.2749   0.0  -35.6733  -30.8765   True\n",
      "  Win_Influence      Win_Kaggle   96.8585   0.0   94.5291    99.188   True\n",
      "  Win_Influence    Write_Better   85.5174   0.0   83.1899   87.8448   True\n",
      "     Win_Kaggle    Write_Better  -11.3411   0.0  -13.7312    -8.951   True\n",
      "--------------------------------------------------------------------------\n",
      "\n",
      "Post Hoc Test for Countries:\n",
      "   Multiple Comparison of Means - Tukey HSD, FWER=0.05   \n",
      "=========================================================\n",
      "  group1   group2 meandiff p-adj  lower    upper   reject\n",
      "---------------------------------------------------------\n",
      "Argentina  Canada  63.4862   0.0  60.9155   66.057   True\n",
      "Argentina Estonia  73.1528   0.0  70.8128  75.4927   True\n",
      "Argentina   Japan  46.9198   0.0  44.3789  49.4607   True\n",
      "Argentina   Spain 102.2326   0.0  99.8926 104.5727   True\n",
      "   Canada Estonia   9.6665   0.0   7.1145  12.2185   True\n",
      "   Canada   Japan -16.5665   0.0 -19.3039  -13.829   True\n",
      "   Canada   Spain  38.7464   0.0  36.1943  41.2985   True\n",
      "  Estonia   Japan  -26.233   0.0 -28.7549 -23.7111   True\n",
      "  Estonia   Spain  29.0799   0.0  26.7605  31.3993   True\n",
      "    Japan   Spain  55.3129   0.0  52.7909  57.8348   True\n",
      "---------------------------------------------------------\n"
     ]
    }
   ],
   "source": [
    "import statsmodels.stats.multicomp as multi\n",
    "\n",
    "# Perform the Tukey HSD post hoc test for product categories\n",
    "posthoc_product = multi.pairwise_tukeyhsd(cleaned_df2['num_sold'], \n",
    "                                         cleaned_df2['product_name'])\n",
    "\n",
    "# Perform the Tukey HSD post hoc test for countries\n",
    "posthoc_country = multi.pairwise_tukeyhsd(cleaned_df2['num_sold'], \n",
    "                                          cleaned_df2['country'])\n",
    "\n",
    "# Print the results\n",
    "print(\"Post Hoc Test for Product Categories:\")\n",
    "print(posthoc_product)\n",
    "\n",
    "print(\"\\nPost Hoc Test for Countries:\")\n",
    "print(posthoc_country)"
   ]
  },
  {
   "cell_type": "markdown",
   "metadata": {},
   "source": [
    "**Post Hoc Test for Product Categories:** <br>\n",
    "The post hoc test for product categories did not reveal any significant differences between any pairs of product categories. All p-values were greater than the significance level of 0.05, indicating that there is no statistically significant difference in the number of items sold between any combination of product categories. Therefore, we do not reject the null hypothesis for the product categories, suggesting that the type of product does not have a significant effect on the number of items sold. <br>\n",
    "\n",
    "**Post Hoc Test for Countries:** <br>\n",
    "In contrast, the post hoc test for countries detected significant differences in the number of items sold among all pairs of countries except just one pair Canada-Estonia. Significant differences in the number of items sold were observed between Argentina and Canada, Argentina and Estonia, Argentina and Japan, and other country pairs. All except one reported p-values for the country pairwise comparisons were below the significance level of 0.05, indicating statistically significant variations in the number of items sold across different countries. As such, we reject the null hypothesis for the countries, demonstrating that the location of the sale (country) has a significant impact on the number of items sold."
   ]
  },
  {
   "cell_type": "markdown",
   "metadata": {},
   "source": [
    "### **Interaction Plot**"
   ]
  },
  {
   "cell_type": "code",
   "execution_count": 48,
   "metadata": {},
   "outputs": [
    {
     "data": {
      "image/png": "[encoded data removed]",
      "text/plain": [
       "<Figure size 640x480 with 1 Axes>"
      ]
     },
     "metadata": {},
     "output_type": "display_data"
    }
   ],
   "source": [
    "sns.barplot(x='product_name', y='num_sold', hue='country', \n",
    "            data=cleaned_df2, errorbar='sd', capsize=0.1)\n",
    "plt.title('Interaction Plot - Number of Items Sold by Product and Country')\n",
    "plt.xlabel('Product Name')\n",
    "plt.ylabel('Number of Items Sold')\n",
    "plt.xticks(rotation=45)\n",
    "plt.legend(title='Country', loc='upper right')\n",
    "plt.tight_layout()\n",
    "plt.show()"
   ]
  },
  {
   "cell_type": "markdown",
   "metadata": {},
   "source": [
    "The interaction plot is a visual representation of the interaction between two categorical variables, product name and country, on the number of items sold. The plot shows the mean number of items sold for each combination of product_name and country. The error bars represent the standard error of the mean.\n",
    "\n",
    "The result of the two-way ANOVA test confirms that there is a significant interaction effect between product_name and country (F(16, 91871) = 1.748271, p = 0.03188). This means that the effect of product category on the number of items sold depends on the country and vice versa.\n",
    "\n",
    "The test also shows that there is a significant main effect of country (F(4, 91871) = 5765.536458, p < 0.0001), but not of product_name (F(4, 91871) = 1.680197, p = 0.15141). The main effect of country indicates that there is a difference in the mean number of items sold across countries regardless of the product category.\n"
   ]
  }
 ],
 "metadata": {
  "kernelspec": {
   "display_name": "Python 3",
   "language": "python",
   "name": "python3"
  },
  "language_info": {
   "codemirror_mode": {
    "name": "ipython",
    "version": 3
   },
   "file_extension": ".py",
   "mimetype": "text/x-python",
   "name": "python",
   "nbconvert_exporter": "python",
   "pygments_lexer": "ipython3",
   "version": "3.10.11"
  },
  "orig_nbformat": 4
 },
 "nbformat": 4,
 "nbformat_minor": 2
}
